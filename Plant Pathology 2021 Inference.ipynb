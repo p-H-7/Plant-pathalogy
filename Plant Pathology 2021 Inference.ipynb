{
 "cells": [
  {
   "cell_type": "code",
   "execution_count": 1,
   "id": "postal-phone",
   "metadata": {
    "execution": {
     "iopub.execute_input": "2021-05-22T01:43:05.272580Z",
     "iopub.status.busy": "2021-05-22T01:43:05.271813Z",
     "iopub.status.idle": "2021-05-22T01:43:56.954180Z",
     "shell.execute_reply": "2021-05-22T01:43:56.953084Z"
    },
    "papermill": {
     "duration": 51.693135,
     "end_time": "2021-05-22T01:43:56.954341",
     "exception": false,
     "start_time": "2021-05-22T01:43:05.261206",
     "status": "completed"
    },
    "tags": []
   },
   "outputs": [],
   "source": [
    "!pip install /kaggle/input/kerasapplications -q\n",
    "!pip install /kaggle/input/efficientnet-keras-source-code/ -q --no-deps\n"
   ]
  },
  {
   "cell_type": "code",
   "execution_count": 2,
   "id": "moving-vaccine",
   "metadata": {
    "_cell_guid": "b1076dfc-b9ad-4769-8c92-a6c4dae69d19",
    "_uuid": "8f2839f25d086af736a60e9eeb907d3b93b6e0e5",
    "execution": {
     "iopub.execute_input": "2021-05-22T01:43:56.970277Z",
     "iopub.status.busy": "2021-05-22T01:43:56.969165Z",
     "iopub.status.idle": "2021-05-22T01:44:02.495020Z",
     "shell.execute_reply": "2021-05-22T01:44:02.494124Z"
    },
    "papermill": {
     "duration": 5.535018,
     "end_time": "2021-05-22T01:44:02.495164",
     "exception": false,
     "start_time": "2021-05-22T01:43:56.960146",
     "status": "completed"
    },
    "tags": []
   },
   "outputs": [],
   "source": [
    "#-------------------\n",
    "# importing libraries\n",
    "#-------------------\n",
    "import tensorflow as tf\n",
    "import efficientnet.tfkeras as efn\n",
    "import tensorflow_addons as tfa\n",
    "\n",
    "import pandas as pd\n",
    "import numpy as np\n",
    "\n",
    "import os\n",
    "import shutil"
   ]
  },
  {
   "cell_type": "code",
   "execution_count": 3,
   "id": "statutory-entrance",
   "metadata": {
    "execution": {
     "iopub.execute_input": "2021-05-22T01:44:02.515588Z",
     "iopub.status.busy": "2021-05-22T01:44:02.514865Z",
     "iopub.status.idle": "2021-05-22T01:44:02.518593Z",
     "shell.execute_reply": "2021-05-22T01:44:02.518974Z"
    },
    "papermill": {
     "duration": 0.018382,
     "end_time": "2021-05-22T01:44:02.519092",
     "exception": false,
     "start_time": "2021-05-22T01:44:02.500710",
     "status": "completed"
    },
    "tags": []
   },
   "outputs": [
    {
     "data": {
      "text/plain": [
       "{0: 'scab',\n",
       " 1: 'frog_eye_leaf_spot',\n",
       " 2: 'rust',\n",
       " 3: 'complex',\n",
       " 4: 'powdery_mildew'}"
      ]
     },
     "execution_count": 3,
     "metadata": {},
     "output_type": "execute_result"
    }
   ],
   "source": [
    "HEIGHT,WIDTH = 512,512\n",
    "CHANNELS = 3\n",
    "BATCH_SIZE = 32\n",
    "TEST_PATH = \"../input/plant-pathology-2021-fgvc8/test_images\"\n",
    "AUTO = tf.data.experimental.AUTOTUNE\n",
    "\n",
    "label2id = {\n",
    "    'scab': 0,\n",
    "    'frog_eye_leaf_spot' : 1,\n",
    "    'rust' : 2,\n",
    "    'complex' : 3,\n",
    "    'powdery_mildew' : 4,\n",
    "}\n",
    "\n",
    "id2label = dict([(value, key) for key, value in label2id.items()])\n",
    "id2label"
   ]
  },
  {
   "cell_type": "code",
   "execution_count": 4,
   "id": "agricultural-jackson",
   "metadata": {
    "execution": {
     "iopub.execute_input": "2021-05-22T01:44:02.535298Z",
     "iopub.status.busy": "2021-05-22T01:44:02.534688Z",
     "iopub.status.idle": "2021-05-22T01:44:04.733595Z",
     "shell.execute_reply": "2021-05-22T01:44:04.733059Z"
    },
    "papermill": {
     "duration": 2.209088,
     "end_time": "2021-05-22T01:44:04.733726",
     "exception": false,
     "start_time": "2021-05-22T01:44:02.524638",
     "status": "completed"
    },
    "tags": []
   },
   "outputs": [],
   "source": [
    "def process_img(filepath):\n",
    "    image = tf.io.read_file(filepath)\n",
    "    image = tf.image.decode_jpeg(image, channels=CHANNELS)\n",
    "    image = tf.image.convert_image_dtype(image, tf.float32) \n",
    "    image = tf.image.resize(image, [HEIGHT,WIDTH])\n",
    "    return image\n",
    "\n",
    "\n",
    "files_ls = tf.io.gfile.glob(TEST_PATH + '/*.jpg')\n",
    "test_ds = tf.data.Dataset.from_tensor_slices(files_ls)\n",
    "test_ds = test_ds.map(process_img,num_parallel_calls=AUTO)\n",
    "test_ds = test_ds.batch(BATCH_SIZE).prefetch(AUTO)"
   ]
  },
  {
   "cell_type": "code",
   "execution_count": 5,
   "id": "pending-filling",
   "metadata": {
    "execution": {
     "iopub.execute_input": "2021-05-22T01:44:04.750772Z",
     "iopub.status.busy": "2021-05-22T01:44:04.750220Z",
     "iopub.status.idle": "2021-05-22T01:46:02.440048Z",
     "shell.execute_reply": "2021-05-22T01:46:02.439633Z"
    },
    "papermill": {
     "duration": 117.700297,
     "end_time": "2021-05-22T01:46:02.440169",
     "exception": false,
     "start_time": "2021-05-22T01:44:04.739872",
     "status": "completed"
    },
    "tags": []
   },
   "outputs": [
    {
     "data": {
      "text/plain": [
       "'model = tf.keras.models.load_model(\"../input/plant-pathology-2k21-baseline-tpu-training/best_model_4.h5\")\\npred_arr = model.predict(test_ds)'"
      ]
     },
     "execution_count": 5,
     "metadata": {},
     "output_type": "execute_result"
    }
   ],
   "source": [
    "MODEL_PATH = \"../input/plant-pathology-2k21-baseline-tpu-training\"\n",
    "pred_arr = 0 \n",
    "count = 0\n",
    "\n",
    "for i,file in enumerate(os.listdir(MODEL_PATH)):\n",
    "    if file.split(\".\")[-1] == \"h5\":\n",
    "        count+=1\n",
    "        model = tf.keras.models.load_model(os.path.join(MODEL_PATH,file))\n",
    "        pred_arr += model.predict(test_ds)\n",
    "\n",
    "pred_arr = pred_arr/count\n",
    "\n",
    "'''model = tf.keras.models.load_model(\"../input/plant-pathology-2k21-baseline-tpu-training/best_model_4.h5\")\n",
    "pred_arr = model.predict(test_ds)'''"
   ]
  },
  {
   "cell_type": "code",
   "execution_count": 6,
   "id": "variable-newspaper",
   "metadata": {
    "execution": {
     "iopub.execute_input": "2021-05-22T01:46:02.457294Z",
     "iopub.status.busy": "2021-05-22T01:46:02.456775Z",
     "iopub.status.idle": "2021-05-22T01:46:02.460318Z",
     "shell.execute_reply": "2021-05-22T01:46:02.459938Z"
    },
    "papermill": {
     "duration": 0.014463,
     "end_time": "2021-05-22T01:46:02.460448",
     "exception": false,
     "start_time": "2021-05-22T01:46:02.445985",
     "status": "completed"
    },
    "tags": []
   },
   "outputs": [],
   "source": [
    "THRESHOLD = 0.5\n",
    "predictions = []\n",
    "for i,pred in enumerate(pred_arr):\n",
    "    req_pred = len(pred[pred>=THRESHOLD])\n",
    "    \n",
    "    if req_pred == 0:\n",
    "        req_str = \"healthy\"\n",
    "    else:\n",
    "        req_args = np.argsort(-1*pred)[:req_pred]\n",
    "        req_labels = [id2label[i] for i in req_args]\n",
    "        req_str = \" \".join(req_labels)\n",
    "    predictions.append(req_str)"
   ]
  },
  {
   "cell_type": "code",
   "execution_count": 7,
   "id": "documentary-dating",
   "metadata": {
    "execution": {
     "iopub.execute_input": "2021-05-22T01:46:02.476381Z",
     "iopub.status.busy": "2021-05-22T01:46:02.475834Z",
     "iopub.status.idle": "2021-05-22T01:46:02.596563Z",
     "shell.execute_reply": "2021-05-22T01:46:02.596982Z"
    },
    "papermill": {
     "duration": 0.130454,
     "end_time": "2021-05-22T01:46:02.597110",
     "exception": false,
     "start_time": "2021-05-22T01:46:02.466656",
     "status": "completed"
    },
    "tags": []
   },
   "outputs": [
    {
     "data": {
      "text/html": [
       "<div>\n",
       "<style scoped>\n",
       "    .dataframe tbody tr th:only-of-type {\n",
       "        vertical-align: middle;\n",
       "    }\n",
       "\n",
       "    .dataframe tbody tr th {\n",
       "        vertical-align: top;\n",
       "    }\n",
       "\n",
       "    .dataframe thead th {\n",
       "        text-align: right;\n",
       "    }\n",
       "</style>\n",
       "<table border=\"1\" class=\"dataframe\">\n",
       "  <thead>\n",
       "    <tr style=\"text-align: right;\">\n",
       "      <th></th>\n",
       "      <th>image</th>\n",
       "      <th>labels</th>\n",
       "    </tr>\n",
       "  </thead>\n",
       "  <tbody>\n",
       "    <tr>\n",
       "      <th>0</th>\n",
       "      <td>ad8770db05586b59.jpg</td>\n",
       "      <td>frog_eye_leaf_spot scab</td>\n",
       "    </tr>\n",
       "    <tr>\n",
       "      <th>1</th>\n",
       "      <td>c7b03e718489f3ca.jpg</td>\n",
       "      <td>frog_eye_leaf_spot</td>\n",
       "    </tr>\n",
       "    <tr>\n",
       "      <th>2</th>\n",
       "      <td>85f8cb619c66b863.jpg</td>\n",
       "      <td>scab</td>\n",
       "    </tr>\n",
       "  </tbody>\n",
       "</table>\n",
       "</div>"
      ],
      "text/plain": [
       "                  image                   labels\n",
       "0  ad8770db05586b59.jpg  frog_eye_leaf_spot scab\n",
       "1  c7b03e718489f3ca.jpg       frog_eye_leaf_spot\n",
       "2  85f8cb619c66b863.jpg                     scab"
      ]
     },
     "execution_count": 7,
     "metadata": {},
     "output_type": "execute_result"
    }
   ],
   "source": [
    "img_ls = os.listdir(TEST_PATH)\n",
    "test_df = pd.DataFrame(img_ls,columns = [\"image\"])\n",
    "test_df[\"labels\"] = predictions\n",
    "#test_df.sort_values('image',inplace=True, ascending=True)\n",
    "\n",
    "test_df.to_csv(\"./submission.csv\",index=False)\n",
    "test_df.head()"
   ]
  }
 ],
 "metadata": {
  "kernelspec": {
   "display_name": "Python 3",
   "language": "python",
   "name": "python3"
  },
  "language_info": {
   "codemirror_mode": {
    "name": "ipython",
    "version": 3
   },
   "file_extension": ".py",
   "mimetype": "text/x-python",
   "name": "python",
   "nbconvert_exporter": "python",
   "pygments_lexer": "ipython3",
   "version": "3.7.9"
  },
  "papermill": {
   "default_parameters": {},
   "duration": 184.31224,
   "end_time": "2021-05-22T01:46:04.416434",
   "environment_variables": {},
   "exception": null,
   "input_path": "__notebook__.ipynb",
   "output_path": "__notebook__.ipynb",
   "parameters": {},
   "start_time": "2021-05-22T01:43:00.104194",
   "version": "2.3.2"
  }
 },
 "nbformat": 4,
 "nbformat_minor": 5
}
